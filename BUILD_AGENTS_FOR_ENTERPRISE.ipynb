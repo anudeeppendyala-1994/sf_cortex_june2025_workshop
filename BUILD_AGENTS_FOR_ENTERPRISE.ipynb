{
 "metadata": {
  "language_info": {
   "name": "python"
  },
  "lastEditStatus": {
   "notebookId": "ododoezngovqi72qo6q3",
   "authorId": "5868947091311",
   "authorName": "SNOWFLAKEJUNE2025",
   "authorEmail": "anudeepsaketh@gmail.com",
   "sessionId": "da871818-c4c2-443a-828e-23e73772aa89",
   "lastEditTime": 1750589537865
  }
 },
 "nbformat_minor": 5,
 "nbformat": 4,
 "cells": [
  {
   "cell_type": "markdown",
   "id": "7606090c-fa39-4028-9bf4-7f02640e656a",
   "metadata": {
    "name": "title",
    "collapsed": false
   },
   "source": "# Building a Smart Enterprise Chatbot Across Departments with Cortex Agents"
  },
  {
   "cell_type": "markdown",
   "id": "f2924eb3-b4b8-4545-830a-6dfa40cd09f5",
   "metadata": {
    "name": "head_setup",
    "collapsed": false
   },
   "source": "## Create the database, tables and warehouse"
  },
  {
   "cell_type": "code",
   "id": "f0e98135-31b6-420a-9dc2-e4f7d74b10a5",
   "metadata": {
    "language": "python",
    "name": "get_active_session"
   },
   "outputs": [],
   "source": "from snowflake.snowpark.context import get_active_session\nsession = get_active_session()",
   "execution_count": null
  },
  {
   "cell_type": "code",
   "id": "30a7e79d-7e59-40a2-913e-bfadfabffc8b",
   "metadata": {
    "language": "sql",
    "name": "create_workspace"
   },
   "outputs": [],
   "source": "CREATE DATABASE IF NOT EXISTS ENTERPRISE_DATA_DB;\n\nCREATE SCHEMA IF NOT EXISTS ENTERPRISE_DATA_SCHEMA;\n\nCREATE WAREHOUSE IF NOT EXISTS ENTERPRISE_CORTEX_WH WITH\n     WAREHOUSE_SIZE='X-SMALL'\n     AUTO_SUSPEND = 120\n     AUTO_RESUME = TRUE\n     INITIALLY_SUSPENDED=TRUE;\n\n USE WAREHOUSE ENTERPRISE_CORTEX_WH;",
   "execution_count": null
  },
  {
   "cell_type": "markdown",
   "id": "ba934b7f-54d3-49a5-bde1-81906c349cbb",
   "metadata": {
    "name": "getting_data",
    "collapsed": false
   },
   "source": "You will use a sample dataset. Download the files directly from your browser by following this link:\n\n[Sample Dataset](https://github.com/anudeeppendyala-1994/sf_cortex_june2025_workshop/tree/main/Sample_data)\n"
  },
  {
   "cell_type": "markdown",
   "id": "b9dff3a2-4325-4bc0-bc73-b152f83f22d5",
   "metadata": {
    "name": "load_to_stage",
    "collapsed": false
   },
   "source": "## Load data into Snowflake stage"
  },
  {
   "cell_type": "code",
   "id": "7e3356ed-1281-4880-b8cd-9e4bcaa27340",
   "metadata": {
    "language": "sql",
    "name": "creation_of_stage"
   },
   "outputs": [],
   "source": "CREATE OR REPLACE STAGE ENTERPRISE_DATA_DB.ENTERPRISE_DATA_SCHEMA.LANDING_STG\n    DIRECTORY = (ENABLE = TRUE)\n    ENCRYPTION = (TYPE = 'SNOWFLAKE_SSE');",
   "execution_count": null
  },
  {
   "cell_type": "markdown",
   "id": "5d0a829a-58fa-407f-826c-1a5e0f17f754",
   "metadata": {
    "name": "load_instructions",
    "collapsed": false
   },
   "source": "Now upload the dataset. You can upload the dataset in Snowsight or using SQL. To upload in Snowsight:\n\n1. Sign in to Snowsight.\n\n2. Select Data in the left-side navigation menu.\n\n3. Select your database ENTERPRISE_DATA_DB.\n\n4. Select your schema ENTERPRISE_DATA_SCHEMA.\n\n5. Select Stages and select landing_stg.\n\n6. On the top right, Select the + Files button.\n\n7. Drag and drop files into the UI or select Browse to choose a file from the dialog window.\n\n8. Select Upload your files with a folder to it. like Sales/sales.pdf, HR/HR.pdf, Marketing/marketing.pdf"
  },
  {
   "cell_type": "code",
   "id": "ef956812-e825-40c0-b391-d19a232145c5",
   "metadata": {
    "language": "sql",
    "name": "listing_stage_files"
   },
   "outputs": [],
   "source": "ls @ENTERPRISE_DATA_DB.ENTERPRISE_DATA_SCHEMA.landing_stg",
   "execution_count": null
  },
  {
   "cell_type": "code",
   "id": "e9091316-a21b-4ffa-9b0b-a7217b0aec3d",
   "metadata": {
    "language": "sql",
    "name": "validating_session_context"
   },
   "outputs": [],
   "source": "SELECT CURRENT_DATABASE()||'.'||CURRENT_SCHEMA();\n-- if not ENTERPRISE_DATA_DB database then execute below statement\n--USE SCHEMA ENTERPRISE_DATA_DB.ENTERPRISE_DATA_SCHEMA;",
   "execution_count": null
  },
  {
   "cell_type": "markdown",
   "id": "5b624099-f474-46f9-91a6-ad8f5f83bd6d",
   "metadata": {
    "name": "Database_set_up",
    "collapsed": false
   },
   "source": "HR Database & Schema Setup"
  },
  {
   "cell_type": "code",
   "id": "500bd4a6-70fd-4083-9a92-7bff3da26c83",
   "metadata": {
    "language": "sql",
    "name": "create_schemas"
   },
   "outputs": [],
   "source": "-- =============================================\n-- HR Database Setup\n-- =============================================\n\nCREATE OR REPLACE DATABASE HR_DB;\nUSE DATABASE HR_DB;\n\n-- Create schemas\nCREATE OR REPLACE SCHEMA HR_DB.RAW;\nCREATE OR REPLACE SCHEMA HR_DB.ANALYTICS;\n\n\nCREATE OR REPLACE STAGE HR_DB.RAW.LANDING_STG\n    DIRECTORY = (ENABLE = TRUE)\n    ENCRYPTION = (TYPE = 'SNOWFLAKE_SSE');\n\n\n\n-- =============================================\n-- Sales Database Setup\n-- =============================================\n\nCREATE OR REPLACE DATABASE SALES_DB;\nUSE DATABASE SALES_DB;\n\n-- Create schemas\nCREATE OR REPLACE SCHEMA SALES_DB.RAW;\nCREATE OR REPLACE SCHEMA SALES_DB.ANALYTICS;\n\nCREATE OR REPLACE STAGE SALES_DB.RAW.LANDING_STG\n    DIRECTORY = (ENABLE = TRUE)\n    ENCRYPTION = (TYPE = 'SNOWFLAKE_SSE');\n\n\n-- =============================================\n-- Marketing Database Setup\n-- =============================================\n\nCREATE OR REPLACE DATABASE MARKETING_DB;\nUSE DATABASE MARKETING_DB;\n\n-- Create schemas\nCREATE OR REPLACE SCHEMA MARKETING_DB.RAW;\nCREATE OR REPLACE SCHEMA MARKETING_DB.ANALYTICS;\n\nCREATE OR REPLACE STAGE MARKETING_DB.RAW.LANDING_STG\n    DIRECTORY = (ENABLE = TRUE)\n    ENCRYPTION = (TYPE = 'SNOWFLAKE_SSE');",
   "execution_count": null
  },
  {
   "cell_type": "code",
   "id": "e737e301-9351-42d5-8c5a-a1ce0c7bf73d",
   "metadata": {
    "language": "sql",
    "name": "HR_creating_tables_from_stg"
   },
   "outputs": [],
   "source": "USE DATABASE HR_DB;\n\nUSE SCHEMA RAW;\n\nCREATE OR REPLACE FILE FORMAT HR_DB.RAW.my_csv_format\n  TYPE = csv\n  FIELD_OPTIONALLY_ENCLOSED_BY = '\"'\n  VALIDATE_UTF8 = TRUE\n  PARSE_HEADER = TRUE\n  ERROR_ON_COLUMN_COUNT_MISMATCH = FALSE;\n\n-- Auto create table with Schema Detection and enable Schema Evolution\nCREATE OR REPLACE TABLE HR_DB.RAW.EMPLOYEES\n    USING TEMPLATE (\n        SELECT ARRAY_AGG(OBJECT_CONSTRUCT(*))\n          FROM TABLE(\n            INFER_SCHEMA(        \n            LOCATION=>'@HR_DB.RAW.landing_stg/employees.csv'\n            , FILE_FORMAT => 'my_csv_format'\n            , IGNORE_CASE => TRUE\n\n            \n        )\n    ))\nENABLE_SCHEMA_EVOLUTION = TRUE\n;\n\n-- Auto create table with Schema Detection and enable Schema Evolution\nCREATE OR REPLACE TABLE HR_DB.RAW.DEPARTMENT\n    USING TEMPLATE (\n        SELECT ARRAY_AGG(OBJECT_CONSTRUCT(*))\n        FROM TABLE(\n            INFER_SCHEMA(        \n            LOCATION=>'@HR_DB.RAW.landing_stg/departments.csv'\n            , FILE_FORMAT => 'my_csv_format'\n            , IGNORE_CASE => TRUE\n        )\n    ))\nENABLE_SCHEMA_EVOLUTION = TRUE;\n\n-- Auto create table with Schema Detection and enable Schema Evolution\nCREATE OR REPLACE TABLE HR_DB.RAW.PERFORMANCE_REVIEWS\n    USING TEMPLATE (\n        SELECT ARRAY_AGG(OBJECT_CONSTRUCT(*))\n        FROM TABLE(\n            INFER_SCHEMA(        \n            LOCATION=>'@HR_DB.RAW.landing_stg/Performance_reviews.csv'\n            , FILE_FORMAT => 'my_csv_format'\n            , IGNORE_CASE => TRUE\n        )\n    ))\nENABLE_SCHEMA_EVOLUTION = TRUE;\n\n\nALTER TABLE HR_DB.RAW.EMPLOYEES \nADD COLUMN \n  FILENAME string, \n  FILE_LAST_MODIFIED timestamp_ntz, \n  FILE_SCAN_TIME timestamp_ltz;\n\nALTER TABLE HR_DB.RAW.DEPARTMENT\nADD COLUMN \n  FILENAME string, \n  FILE_LAST_MODIFIED timestamp_ntz, \n  FILE_SCAN_TIME timestamp_ltz;\n\nALTER TABLE HR_DB.RAW.PERFORMANCE_REVIEWS \nADD COLUMN \n  FILENAME string, \n  FILE_LAST_MODIFIED timestamp_ntz, \n  FILE_SCAN_TIME timestamp_ltz;",
   "execution_count": null
  },
  {
   "cell_type": "code",
   "id": "5b14b462-116a-479d-9d9d-fee4f4c0fd0e",
   "metadata": {
    "language": "sql",
    "name": "copy_into_hr_tables"
   },
   "outputs": [],
   "source": "COPY INTO HR_DB.RAW.EMPLOYEES \n  FROM @HR_DB.RAW.landing_stg/employees.csv\n  FILE_FORMAT = 'my_csv_format'\n  ON_ERROR = CONTINUE\n  MATCH_BY_COLUMN_NAME = CASE_INSENSITIVE\n  INCLUDE_METADATA = (\n    FILENAME=METADATA$FILENAME, \n    FILE_LAST_MODIFIED=METADATA$FILE_LAST_MODIFIED, \n    FILE_SCAN_TIME=METADATA$START_SCAN_TIME);\n\nCOPY INTO HR_DB.RAW.DEPARTMENT \n  FROM @HR_DB.RAW.landing_stg/departments.csv\n  FILE_FORMAT = 'my_csv_format'\n  ON_ERROR = CONTINUE\n  MATCH_BY_COLUMN_NAME = CASE_INSENSITIVE\n  INCLUDE_METADATA = (\n    FILENAME=METADATA$FILENAME, \n    FILE_LAST_MODIFIED=METADATA$FILE_LAST_MODIFIED, \n    FILE_SCAN_TIME=METADATA$START_SCAN_TIME);\n\nCOPY INTO HR_DB.RAW.PERFORMANCE_REVIEWS\n  FROM @HR_DB.RAW.landing_stg/Performance_reviews.csv\n  FILE_FORMAT = 'my_csv_format'\n  ON_ERROR = CONTINUE\n  MATCH_BY_COLUMN_NAME = CASE_INSENSITIVE\n  INCLUDE_METADATA = (\n    FILENAME=METADATA$FILENAME, \n    FILE_LAST_MODIFIED=METADATA$FILE_LAST_MODIFIED, \n    FILE_SCAN_TIME=METADATA$START_SCAN_TIME);",
   "execution_count": null
  },
  {
   "cell_type": "code",
   "id": "8cc0138d-8619-4b5f-b0d3-2194122f3a05",
   "metadata": {
    "language": "sql",
    "name": "HR_dynamic_views"
   },
   "outputs": [],
   "source": "USE SCHEMA ANALYTICS;\n\nCREATE OR REPLACE DYNAMIC TABLE HR_DB.ANALYTICS.DEPARTMENT_STATS\nTARGET_LAG = '20 minutes'\n  REFRESH_MODE = auto\n  WAREHOUSE = ENTERPRISE_CORTEX_WH\n  INITIALIZE = on_create\nAS\nSELECT \n    e.DEPARTMENT,\n    COUNT(*) as employee_count,\n    AVG(e.SALARY) as avg_salary,\n    MIN(e.SALARY) as min_salary,\n    MAX(e.SALARY) as max_salary,\n    AVG(p.RATING) as avg_performance_rating\nFROM HR_DB.RAW.EMPLOYEES e\nLEFT JOIN HR_DB.RAW.PERFORMANCE_REVIEWS p\n    ON e.EMPLOYEE_ID = p.EMPLOYEE_ID\nGROUP BY 1;",
   "execution_count": null
  },
  {
   "cell_type": "code",
   "id": "a23b1988-01c8-42e7-be12-9eaf4aa65ca4",
   "metadata": {
    "language": "sql",
    "name": "Sales_creating_tables_from_stg",
    "codeCollapsed": false
   },
   "outputs": [],
   "source": "USE DATABASE SALES_DB;\n\nUSE SCHEMA RAW;\n\nCREATE OR REPLACE FILE FORMAT SALES_DB.RAW.my_csv_format\n  TYPE = csv\n  FIELD_OPTIONALLY_ENCLOSED_BY = '\"'\n  VALIDATE_UTF8 = TRUE\n  PARSE_HEADER = TRUE\n  ERROR_ON_COLUMN_COUNT_MISMATCH = FALSE;\n\n-- Auto create table with Schema Detection and enable Schema Evolution\nCREATE OR REPLACE TABLE SALES_DB.RAW.CUSTOMERS\n    USING TEMPLATE (\n        SELECT ARRAY_AGG(OBJECT_CONSTRUCT(*))\n          FROM TABLE(\n            INFER_SCHEMA(        \n            LOCATION=>'@SALES_DB.RAW.landing_stg/Customers.csv'\n            , FILE_FORMAT => 'my_csv_format'\n            , IGNORE_CASE => TRUE\n\n            \n        )\n    ))\nENABLE_SCHEMA_EVOLUTION = TRUE\n;\n\n-- Auto create table with Schema Detection and enable Schema Evolution\nCREATE OR REPLACE TABLE SALES_DB.RAW.PRODUCTS\n    USING TEMPLATE (\n        SELECT ARRAY_AGG(OBJECT_CONSTRUCT(*))\n        FROM TABLE(\n            INFER_SCHEMA(        \n            LOCATION=>'@SALES_DB.RAW.landing_stg/products.csv'\n            , FILE_FORMAT => 'my_csv_format'\n            , IGNORE_CASE => TRUE\n        )\n    ))\nENABLE_SCHEMA_EVOLUTION = TRUE;\n\n-- Auto create table with Schema Detection and enable Schema Evolution\nCREATE OR REPLACE TABLE SALES_DB.RAW.SALES_TRANSACTIONS\n    USING TEMPLATE (\n        SELECT ARRAY_AGG(OBJECT_CONSTRUCT(*))\n        FROM TABLE(\n            INFER_SCHEMA(        \n            LOCATION=>'@SALES_DB.RAW.landing_stg/Sales_Transactions.csv'\n            , FILE_FORMAT => 'my_csv_format'\n            , IGNORE_CASE => TRUE\n        )\n    ))\nENABLE_SCHEMA_EVOLUTION = TRUE;\n\n\nALTER TABLE SALES_DB.RAW.CUSTOMERS\nADD COLUMN \n  FILENAME string, \n  FILE_LAST_MODIFIED timestamp_ntz, \n  FILE_SCAN_TIME timestamp_ltz;\n\nALTER TABLE SALES_DB.RAW.PRODUCTS\nADD COLUMN \n  FILENAME string, \n  FILE_LAST_MODIFIED timestamp_ntz, \n  FILE_SCAN_TIME timestamp_ltz;\n\nALTER TABLE SALES_DB.RAW.SALES_TRANSACTIONS\nADD COLUMN \n  FILENAME string, \n  FILE_LAST_MODIFIED timestamp_ntz, \n  FILE_SCAN_TIME timestamp_ltz;",
   "execution_count": null
  },
  {
   "cell_type": "code",
   "id": "0fa2114b-562b-4907-971d-fea402308d3e",
   "metadata": {
    "language": "sql",
    "name": "copy_into_sales_tables"
   },
   "outputs": [],
   "source": "COPY INTO SALES_DB.RAW.CUSTOMERS\n  FROM @SALES_DB.RAW.landing_stg/customers.csv\n  FILE_FORMAT = 'my_csv_format'\n  ON_ERROR = CONTINUE\n  MATCH_BY_COLUMN_NAME = CASE_INSENSITIVE\n  INCLUDE_METADATA = (\n    FILENAME=METADATA$FILENAME, \n    FILE_LAST_MODIFIED=METADATA$FILE_LAST_MODIFIED, \n    FILE_SCAN_TIME=METADATA$START_SCAN_TIME);\n\nCOPY INTO SALES_DB.RAW.PRODUCTS \n  FROM @SALES_DB.RAW.landing_stg/products.csv\n  FILE_FORMAT = 'my_csv_format'\n  ON_ERROR = CONTINUE\n  MATCH_BY_COLUMN_NAME = CASE_INSENSITIVE\n  INCLUDE_METADATA = (\n    FILENAME=METADATA$FILENAME, \n    FILE_LAST_MODIFIED=METADATA$FILE_LAST_MODIFIED, \n    FILE_SCAN_TIME=METADATA$START_SCAN_TIME);\n\nCOPY INTO SALES_DB.RAW.SALES_TRANSACTIONS\n  FROM @SALES_DB.RAW.landing_stg/Sales_Transactions.csv\n  FILE_FORMAT = 'my_csv_format'\n  ON_ERROR = CONTINUE\n  MATCH_BY_COLUMN_NAME = CASE_INSENSITIVE\n  INCLUDE_METADATA = (\n    FILENAME=METADATA$FILENAME, \n    FILE_LAST_MODIFIED=METADATA$FILE_LAST_MODIFIED, \n    FILE_SCAN_TIME=METADATA$START_SCAN_TIME);",
   "execution_count": null
  },
  {
   "cell_type": "code",
   "id": "6998df2e-be22-4149-b344-6a178f84b099",
   "metadata": {
    "language": "sql",
    "name": "Sales_dynamic_tables"
   },
   "outputs": [],
   "source": "USE SCHEMA ANALYTICS;\n\nCREATE OR REPLACE DYNAMIC TABLE SALES_DB.ANALYTICS.SALES_PERFORMANCE\nTARGET_LAG = '20 minutes'\n  REFRESH_MODE = auto\n  WAREHOUSE = ENTERPRISE_CORTEX_WH\n  INITIALIZE = on_create\nAS\n\nSELECT \n    DATE_TRUNC('MONTH', s.SALE_DATE) as month,\n    s.REGION,\n    s.SALES_REP,\n    COUNT(*) as total_transactions,\n    SUM(s.AMOUNT) as total_sales,\n    AVG(s.AMOUNT) as avg_sale_amount,\n    COUNT(DISTINCT s.CUSTOMER_ID) as unique_customers\nFROM SALES_DB.RAW.SALES_TRANSACTIONS s\nGROUP BY 1, 2, 3;",
   "execution_count": null
  },
  {
   "cell_type": "code",
   "id": "bba16991-24f5-4f7e-a4fb-f036b9ad24d3",
   "metadata": {
    "language": "sql",
    "name": "Marketing_creating_tables_from_stg"
   },
   "outputs": [],
   "source": "USE DATABASE MARKETING_DB;\n\nUSE SCHEMA RAW;\n\nCREATE OR REPLACE FILE FORMAT MARKETING_DB.RAW.my_csv_format\n  TYPE = csv\n  FIELD_OPTIONALLY_ENCLOSED_BY = '\"'\n  VALIDATE_UTF8 = TRUE\n  PARSE_HEADER = TRUE\n  ERROR_ON_COLUMN_COUNT_MISMATCH = FALSE;\n\n-- Auto create table with Schema Detection and enable Schema Evolution\nCREATE OR REPLACE TABLE MARKETING_DB.RAW.CAMPAIGNS\n    USING TEMPLATE (\n        SELECT ARRAY_AGG(OBJECT_CONSTRUCT(*))\n          FROM TABLE(\n            INFER_SCHEMA(        \n            LOCATION=>'@MARKETING_DB.RAW.landing_stg/campaigns.csv'\n            , FILE_FORMAT => 'my_csv_format'\n            , IGNORE_CASE => TRUE\n\n            \n        )\n    ))\nENABLE_SCHEMA_EVOLUTION = TRUE\n;\n\n-- Auto create table with Schema Detection and enable Schema Evolution\nCREATE OR REPLACE TABLE MARKETING_DB.RAW.CAMPAIGN_METRICS\n    USING TEMPLATE (\n        SELECT ARRAY_AGG(OBJECT_CONSTRUCT(*))\n        FROM TABLE(\n            INFER_SCHEMA(        \n            LOCATION=>'@MARKETING_DB.RAW.landing_stg/campaign_metrics.csv'\n            , FILE_FORMAT => 'my_csv_format'\n            , IGNORE_CASE => TRUE\n        )\n    ))\nENABLE_SCHEMA_EVOLUTION = TRUE;\n\n\nALTER TABLE MARKETING_DB.RAW.CAMPAIGNS\nADD COLUMN \n  FILENAME string, \n  FILE_LAST_MODIFIED timestamp_ntz, \n  FILE_SCAN_TIME timestamp_ltz;\n\nALTER TABLE MARKETING_DB.RAW.CAMPAIGN_METRICS\nADD COLUMN \n  FILENAME string, \n  FILE_LAST_MODIFIED timestamp_ntz, \n  FILE_SCAN_TIME timestamp_ltz;\n",
   "execution_count": null
  },
  {
   "cell_type": "code",
   "id": "8e7077a6-5c6c-4bc1-8635-edb85dd508d4",
   "metadata": {
    "language": "sql",
    "name": "copy_into_marketing_tables"
   },
   "outputs": [],
   "source": "COPY INTO MARKETING_DB.RAW.CAMPAIGNS\n  FROM @MARKETING_DB.RAW.landing_stg/campaigns.csv\n  FILE_FORMAT = 'my_csv_format'\n  ON_ERROR = CONTINUE\n  MATCH_BY_COLUMN_NAME = CASE_INSENSITIVE\n  INCLUDE_METADATA = (\n    FILENAME=METADATA$FILENAME, \n    FILE_LAST_MODIFIED=METADATA$FILE_LAST_MODIFIED, \n    FILE_SCAN_TIME=METADATA$START_SCAN_TIME);\n\nCOPY INTO MARKETING_DB.RAW.campaign_metrics \n  FROM @MARKETING_DB.RAW.landing_stg/campaign_metrics.csv\n  FILE_FORMAT = 'my_csv_format'\n  ON_ERROR = CONTINUE\n  MATCH_BY_COLUMN_NAME = CASE_INSENSITIVE\n  INCLUDE_METADATA = (\n    FILENAME=METADATA$FILENAME, \n    FILE_LAST_MODIFIED=METADATA$FILE_LAST_MODIFIED, \n    FILE_SCAN_TIME=METADATA$START_SCAN_TIME);\n",
   "execution_count": null
  },
  {
   "cell_type": "code",
   "id": "c4674879-9939-49fd-8411-2bc3441f31f8",
   "metadata": {
    "language": "sql",
    "name": "Marketing_dynamic_table"
   },
   "outputs": [],
   "source": "USE SCHEMA ANALYTICS;\n\nCREATE OR REPLACE DYNAMIC TABLE MARKETING_DB.ANALYTICS.CAMPAIGN_PERFORMANCE\nTARGET_LAG = '20 minutes'\n  REFRESH_MODE = auto\n  WAREHOUSE = ENTERPRISE_CORTEX_WH\n  INITIALIZE = on_create\nAS\nSELECT \n    c.CAMPAIGN_NAME,\n    c.CHANNEL,\n    c.STATUS,\n    c.BUDGET,\n    SUM(m.IMPRESSIONS) as total_impressions,\n    SUM(m.CLICKS) as total_clicks,\n    SUM(m.CONVERSIONS) as total_conversions,\n    SUM(m.SPEND) as total_spend,\n    DATEDIFF('DAY', c.START_DATE, c.END_DATE) as campaign_duration\nFROM MARKETING_DB.RAW.CAMPAIGNS c\nLEFT JOIN MARKETING_DB.RAW.CAMPAIGN_METRICS m\n    ON c.CAMPAIGN_ID = m.CAMPAIGN_ID\nGROUP BY 1, 2, 3, 4, 9;",
   "execution_count": null
  },
  {
   "cell_type": "code",
   "id": "9bb9108c-4392-4bbf-8e14-2da44683781f",
   "metadata": {
    "language": "sql",
    "name": "querying_data"
   },
   "outputs": [],
   "source": "select * from MARKETING_DB.ANALYTICS.CAMPAIGN_PERFORMANCE LIMIT 10;",
   "execution_count": null
  },
  {
   "cell_type": "code",
   "id": "fcfa66cc-61a1-4a52-813a-e0f8acd1d5f6",
   "metadata": {
    "language": "sql",
    "name": "enabling_cross_region_cortex_inference"
   },
   "outputs": [],
   "source": "ALTER ACCOUNT SET CORTEX_ENABLED_CROSS_REGION = 'AWS_US';",
   "execution_count": null
  },
  {
   "cell_type": "code",
   "id": "c6853378-af99-4bd0-9a03-ce86adbd33e2",
   "metadata": {
    "language": "sql",
    "name": "parsing_invoices",
    "codeCollapsed": false
   },
   "outputs": [],
   "source": "USE DATABASE ENTERPRISE_DATA_DB;\n\nUSE SCHEMA ENTERPRISE_DATA_SCHEMA;\n\nCREATE OR REPLACE TABLE ENTERPRISE_DATA_DB.ENTERPRISE_DATA_SCHEMA.PARSED_DOCUMENTS AS \nSELECT \n    relative_path,\n    upper(SPLIT_PART(relative_path, '/', 1)) as department,\n    TO_VARCHAR(\n        SNOWFLAKE.CORTEX.PARSE_DOCUMENT(\n            @landing_stg, \n            relative_path, \n            {'mode': 'LAYOUT'}\n        ) :content\n    ) AS parsed_text\nFROM directory(@landing_stg)\nWHERE relative_path ILIKE '%.pdf';",
   "execution_count": null
  },
  {
   "cell_type": "code",
   "id": "b0c09360-af5f-4f7f-a884-bb43511c0e94",
   "metadata": {
    "language": "sql",
    "name": "querying_data_invoices"
   },
   "outputs": [],
   "source": "SELECT * FROM ENTERPRISE_DATA_DB.ENTERPRISE_DATA_SCHEMA.PARSED_DOCUMENTS limit 10;",
   "execution_count": null
  },
  {
   "cell_type": "code",
   "id": "7acb1b76-61d9-4da2-b0a1-938d3c133e4c",
   "metadata": {
    "language": "sql",
    "name": "chunking_data"
   },
   "outputs": [],
   "source": "    -- Create a table for chunked documents\nCREATE OR REPLACE TABLE  ENTERPRISE_DATA_DB.ENTERPRISE_DATA_SCHEMA.CHUNKED_DOCUMENTS (\n    FILE_NAME VARCHAR,\n    DEPARTMENT VARCHAR,\n    CHUNK VARCHAR\n);\n\n-- Insert chunked content from parsed documents\nINSERT INTO  ENTERPRISE_DATA_DB.ENTERPRISE_DATA_SCHEMA.CHUNKED_DOCUMENTS (FILE_NAME, DEPARTMENT, CHUNK)\nSELECT\n    relative_path,\n    department,\n    c.value AS CHUNK\nFROM\n    PARSED_DOCUMENTS,\n    LATERAL FLATTEN( input => SNOWFLAKE.CORTEX.SPLIT_TEXT_RECURSIVE_CHARACTER (\n        parsed_text,\n        'markdown',\n        1800,\n        250\n    )) c;\n",
   "execution_count": null
  },
  {
   "cell_type": "code",
   "id": "cc6ed8c2-0d0f-4a9a-8c5e-4e9636b11e9d",
   "metadata": {
    "language": "sql",
    "name": "testing_chunks"
   },
   "outputs": [],
   "source": "select * from ENTERPRISE_DATA_DB.ENTERPRISE_DATA_SCHEMA.CHUNKED_DOCUMENTS limit 10;",
   "execution_count": null
  },
  {
   "cell_type": "code",
   "id": "a0ed8422-92a1-43e3-947f-907a9319ebb3",
   "metadata": {
    "language": "sql",
    "name": "creation_of_search_service"
   },
   "outputs": [],
   "source": "CREATE OR REPLACE CORTEX SEARCH SERVICE ENTERPRISE_DATA_DB.ENTERPRISE_DATA_SCHEMA.DOCUMENT_SEARCH_SERVICE\n    ON CHUNK\n    ATTRIBUTES (DEPARTMENT)\n    WAREHOUSE = ENTERPRISE_CORTEX_WH\n    TARGET_LAG = '1 minute'\n    EMBEDDING_MODEL = 'snowflake-arctic-embed-l-v2.0'\n    AS (\n    SELECT\n        *\n    FROM ENTERPRISE_DATA_DB.ENTERPRISE_DATA_SCHEMA.CHUNKED_DOCUMENTS\n    );\n",
   "execution_count": null
  },
  {
   "cell_type": "code",
   "id": "d9a468af-0f0b-4032-9b57-0c2ac1527139",
   "metadata": {
    "language": "sql",
    "name": "describe_search_service",
    "codeCollapsed": false
   },
   "outputs": [],
   "source": "describe cortex search service ENTERPRISE_DATA_DB.ENTERPRISE_DATA_SCHEMA.DOCUMENT_SEARCH_SERVICE",
   "execution_count": null
  },
  {
   "cell_type": "code",
   "id": "65dea695-9b99-4aea-9388-d28b6b7ce9b5",
   "metadata": {
    "language": "sql",
    "name": "testing_search_service",
    "codeCollapsed": false
   },
   "outputs": [],
   "source": "SELECT PARSE_JSON(\n  SNOWFLAKE.CORTEX.SEARCH_PREVIEW(\n      'ENTERPRISE_DATA_DB.ENTERPRISE_DATA_SCHEMA.DOCUMENT_SEARCH_SERVICE',\n      '{\n        \"query\": \"Uber\",\n        \"columns\":[\n            \"file_name\",\n            \"chunk\"\n        ],\n        \"limit\":4\n      }'\n  )\n)['results'] as results;",
   "execution_count": null
  }
 ]
}